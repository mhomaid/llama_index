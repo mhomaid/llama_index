{
 "cells": [
  {
   "cell_type": "markdown",
   "metadata": {},
   "source": [
    "# Loading Data from Kafka into LlamaIndex\n",
    "\n",
    "This notebook demonstrates how to use the `KafkaReader` class to load data from a Kafka topic into LlamaIndex and perform queries on the indexed data.\n",
    "\n",
    "## Prerequisites\n",
    "\n",
    "Before running this notebook, make sure you have the following:\n",
    "\n",
    "- A running Kafka cluster with the specified topic and data available.\n",
    "- The `llama-index` and `confluent-kafka` libraries installed.\n",
    "\n",
    "## Imports\n",
    "\n",
    "First, let's import the necessary classes:\n",
    "\n",
    "```python\n",
    "# from llama_index import VectorStoreIndex\n",
    "from llama_index.readers.kafka import KafkaReader\n",
    "```"
   ]
  },
  {
   "cell_type": "markdown",
   "metadata": {},
   "source": [
    "### Simple Example"
   ]
  },
  {
   "cell_type": "code",
   "execution_count": null,
   "metadata": {},
   "outputs": [],
   "source": [
    "from llama_index.readers.kafka import KafkaReader\n",
    "\n",
    "# Configure the KafkaReader\n",
    "bootstrap_servers = [\"localhost:9092\"]\n",
    "topics = [\"llama_index_test_topic\"]\n",
    "group_id = \"llama_index_test_group\"\n",
    "security_protocol = \"PLAINTEXT\"\n",
    "\n",
    "# Create an instance of KafkaReader\n",
    "reader = KafkaReader(\n",
    "    bootstrap_servers=bootstrap_servers,\n",
    "    topics=topics,\n",
    "    group_id=group_id,\n",
    "    security_protocol=security_protocol,\n",
    ")\n",
    "\n",
    "# Load data from Kafka\n",
    "documents = reader.load()\n",
    "\n",
    "# Create an index using the loaded documents\n",
    "# index = VectorStoreIndex.from_documents(documents)\n",
    "\n",
    "# Query the index\n",
    "# query_engine = index.as_query_engine()\n",
    "# response = query_engine.query(\"What is the main topic of the documents?\")\n",
    "\n",
    "# print(response)\n",
    "\n",
    "# Close the Kafka reader\n",
    "reader.close()"
   ]
  }
 ],
 "metadata": {
  "kernelspec": {
   "display_name": "llama-index-readers-kafka-P1KXr6uQ-py3.11",
   "language": "python",
   "name": "python3"
  },
  "language_info": {
   "codemirror_mode": {
    "name": "ipython",
    "version": 3
   },
   "file_extension": ".py",
   "mimetype": "text/x-python",
   "name": "python",
   "nbconvert_exporter": "python",
   "pygments_lexer": "ipython3",
   "version": "3.11.7"
  }
 },
 "nbformat": 4,
 "nbformat_minor": 2
}
